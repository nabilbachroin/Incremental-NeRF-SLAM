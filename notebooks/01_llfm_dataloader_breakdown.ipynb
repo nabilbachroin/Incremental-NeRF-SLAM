{
 "cells": [
  {
   "cell_type": "code",
   "execution_count": 1,
   "id": "143ae930-eeae-45b6-b211-f3b70fc273b4",
   "metadata": {},
   "outputs": [],
   "source": [
    "import sys\n",
    "sys.path.append(\"../\")"
   ]
  },
  {
   "cell_type": "code",
   "execution_count": 2,
   "id": "7a7c8473-d813-4433-806b-33c137316b2a",
   "metadata": {},
   "outputs": [],
   "source": [
    "%reload_ext autoreload\n",
    "%autoreload 2"
   ]
  },
  {
   "cell_type": "code",
   "execution_count": 3,
   "id": "fb553bf9-de76-4e36-b9b9-b62b33879d6f",
   "metadata": {},
   "outputs": [],
   "source": [
    "import numpy as np\n",
    "import os\n",
    "import matplotlib.pyplot as plt\n",
    "\n",
    "from datasets.llff import LLFFDataset\n",
    "from datasets.llff import *"
   ]
  },
  {
   "cell_type": "code",
   "execution_count": 4,
   "id": "bd9d1b86-a299-4e88-8e84-81a67b3efae7",
   "metadata": {},
   "outputs": [],
   "source": [
    "root_dir = \"/scratch/saksham/data/freiburg_small/\""
   ]
  },
  {
   "cell_type": "code",
   "execution_count": 5,
   "id": "37fe20bf-63d4-4050-845a-d263562178aa",
   "metadata": {},
   "outputs": [
    {
     "name": "stdout",
     "output_type": "stream",
     "text": [
      " 01_llfm_dataloader_breakdown-Copy1.ipynb   ndc.ipynb\n",
      " 01_llfm_dataloader_breakdown.ipynb\t    plot2D.mp4\n",
      " 01_llfm_tum_pose_t.ipynb\t\t    plot2D_corrected.mp4\n",
      " 01_tum_dataloader.ipynb\t\t    plot3D.mp4\n",
      " 02_test_tum_dataset.ipynb\t\t    plot3DCamera.mp4\n",
      " 03_evaluate_model_fern.ipynb\t\t    plot3DCamera_corrected.mp4\n",
      " 04_test_tum.ipynb\t\t\t    plot3D_corrected.mp4\n",
      "'[EXP] nerf_walkthrough.ipynb'\t\t    test.ipynb\n",
      " colmap.npy\t\t\t\t    tum.npy\n",
      " colmap_vs_tum.ipynb\t\t\t    tum_aligned.npy\n"
     ]
    }
   ],
   "source": [
    "!ls $data_path"
   ]
  },
  {
   "cell_type": "code",
   "execution_count": 6,
   "id": "81f69adc-3a00-4862-993f-9fdbfc587477",
   "metadata": {},
   "outputs": [],
   "source": [
    "from datasets.colmap_utils import \\\n",
    "    read_cameras_binary, read_images_binary, read_points3d_binary"
   ]
  },
  {
   "cell_type": "code",
   "execution_count": 8,
   "id": "a0919d03-a309-4796-be71-f2662b7bc9f6",
   "metadata": {},
   "outputs": [],
   "source": [
    "camdata = read_cameras_binary(os.path.join(root_dir, 'sparse/0/cameras.bin'))\n",
    "img_wh = (80,  60)\n",
    "H = camdata[1].height\n",
    "W = camdata[1].width\n",
    "focal = camdata[1].params[0] * img_wh[0]/W"
   ]
  },
  {
   "cell_type": "code",
   "execution_count": 9,
   "id": "54fe1981-fcd5-4b0d-9c25-4c6221066152",
   "metadata": {},
   "outputs": [],
   "source": [
    "imdata = read_images_binary(os.path.join(root_dir, 'sparse/0/images.bin'))"
   ]
  },
  {
   "cell_type": "code",
   "execution_count": 10,
   "id": "9f7ae20c-26f8-4715-9cea-cc23ff1824e2",
   "metadata": {},
   "outputs": [],
   "source": [
    "perm = np.argsort([imdata[k].name for k in imdata])"
   ]
  },
  {
   "cell_type": "code",
   "execution_count": 11,
   "id": "1730dae9-4b0e-4a9c-a254-10eecb406b55",
   "metadata": {},
   "outputs": [],
   "source": [
    "image_paths = [os.path.join(root_dir, 'images', name)\n",
    "                            for name in sorted([imdata[k].name for k in imdata])]"
   ]
  },
  {
   "cell_type": "code",
   "execution_count": 13,
   "id": "9674a97d-6caa-40b3-af5e-73144a62df0b",
   "metadata": {},
   "outputs": [],
   "source": [
    "w2c_mats = []\n",
    "bottom = np.array([0, 0, 0, 1.]).reshape(1, 4)\n",
    "for k in imdata:\n",
    "    im = imdata[k]\n",
    "    R = im.qvec2rotmat()\n",
    "    t = im.tvec.reshape(3, 1)\n",
    "    w2c_mats += [np.concatenate([np.concatenate([R, t], 1), bottom], 0)]\n",
    "w2c_mats = np.stack(w2c_mats, 0)\n",
    "poses = np.linalg.inv(w2c_mats)[:, :3] # (N_images, 3, 4) cam2world matrices"
   ]
  },
  {
   "cell_type": "code",
   "execution_count": 14,
   "id": "a48d6270-5f48-45a4-a3d7-bb61e1520372",
   "metadata": {},
   "outputs": [],
   "source": [
    "bounds = np.zeros((len(poses), 2)) # (N_images, 2)\n",
    "pts3d = read_points3d_binary(os.path.join(root_dir, 'sparse/0/points3D.bin'))"
   ]
  },
  {
   "cell_type": "code",
   "execution_count": 15,
   "id": "02303c2a-035d-4068-941e-e105402fd2ad",
   "metadata": {},
   "outputs": [],
   "source": [
    "pts_world = np.zeros((1, 3, len(pts3d))) # (1, 3, N_points)\n",
    "visibilities = np.zeros((len(poses), len(pts3d))) # (N_images, N_points)\n",
    "for i, k in enumerate(pts3d):\n",
    "    pts_world[0, :, i] = pts3d[k].xyz\n",
    "    for j in pts3d[k].image_ids:\n",
    "        visibilities[j-1, i] = 1"
   ]
  },
  {
   "cell_type": "code",
   "execution_count": 16,
   "id": "e2a56660-e148-4c94-b2cf-5834c4ac9451",
   "metadata": {},
   "outputs": [],
   "source": [
    "depths = ((pts_world-poses[..., 3:4])*poses[..., 2:3]).sum(1) # (N_images, N_points)\n",
    "for i in range(len(poses)):\n",
    "    visibility_i = visibilities[i]\n",
    "    zs = depths[i][visibility_i==1]\n",
    "    bounds[i] = [np.percentile(zs, 0.1), np.percentile(zs, 99.9)]\n",
    "# permute the matrices to increasing order\n",
    "poses = poses[perm]\n",
    "bounds = bounds[perm]"
   ]
  },
  {
   "cell_type": "code",
   "execution_count": 17,
   "id": "199b3a1b-831f-4c29-88bb-cdd5dd50aeca",
   "metadata": {},
   "outputs": [],
   "source": [
    "poses = np.concatenate([poses[..., 0:1], -poses[..., 1:3], poses[..., 3:4]], -1)"
   ]
  },
  {
   "cell_type": "code",
   "execution_count": 20,
   "id": "c9c4f93e-164b-4387-87ea-5c7641fcaf63",
   "metadata": {},
   "outputs": [
    {
     "data": {
      "text/plain": [
       "(2.0559904843130434, 28.39163776138985)"
      ]
     },
     "execution_count": 20,
     "metadata": {},
     "output_type": "execute_result"
    }
   ],
   "source": [
    "bounds.min(), bounds.max()"
   ]
  },
  {
   "cell_type": "code",
   "execution_count": 24,
   "id": "12fb3b97-9ce8-452d-8d9a-4b9c0f09a4be",
   "metadata": {},
   "outputs": [],
   "source": [
    "poses = poses[:30]\n",
    "image_paths = image_paths[:30]\n",
    "bounds = bounds[:30]"
   ]
  },
  {
   "cell_type": "code",
   "execution_count": 25,
   "id": "f03bba79-a3bd-4943-8d1e-c14b749c266a",
   "metadata": {},
   "outputs": [
    {
     "data": {
      "text/plain": [
       "28.39163776138985"
      ]
     },
     "execution_count": 25,
     "metadata": {},
     "output_type": "execute_result"
    }
   ],
   "source": [
    "bounds.max()"
   ]
  },
  {
   "cell_type": "code",
   "execution_count": 18,
   "id": "6bbd1399-4076-4a87-b031-cab5c1320295",
   "metadata": {},
   "outputs": [],
   "source": [
    "poses, _ = center_poses(poses)"
   ]
  },
  {
   "cell_type": "code",
   "execution_count": 19,
   "id": "3105f059-a64b-4a6a-827e-db0d3685dca8",
   "metadata": {},
   "outputs": [],
   "source": [
    "distances_from_center = np.linalg.norm(poses[..., 3], axis=1)"
   ]
  },
  {
   "cell_type": "code",
   "execution_count": 20,
   "id": "9ecd22eb-c85f-48f3-8445-3136fb1866df",
   "metadata": {},
   "outputs": [
    {
     "data": {
      "text/plain": [
       "array([0.95737697, 0.95691527, 0.99753154, 1.00934402, 0.99352704,\n",
       "       0.97806374, 0.98133264, 0.940594  , 0.87972338, 0.79775828,\n",
       "       0.69448124, 0.6285807 , 0.56177675, 0.47512866, 0.40115907,\n",
       "       0.31781431, 0.2843643 , 0.29187976, 0.40513849, 0.4563209 ,\n",
       "       0.60194595, 0.70305226, 0.7594199 , 0.88258841, 0.99679348,\n",
       "       1.13806552, 1.29228361, 1.46907967, 1.638834  , 1.76030004])"
      ]
     },
     "execution_count": 20,
     "metadata": {},
     "output_type": "execute_result"
    }
   ],
   "source": [
    "distances_from_center"
   ]
  },
  {
   "cell_type": "code",
   "execution_count": 21,
   "id": "6eef1077-26f3-49f4-8c6f-9da6812ff13e",
   "metadata": {},
   "outputs": [],
   "source": [
    "val_idx = np.argmin(distances_from_center) # choose val image as the closest to\n",
    "                                                   # center image"
   ]
  },
  {
   "cell_type": "code",
   "execution_count": 22,
   "id": "db737a74-6eb0-4f26-8b0e-7727be53d921",
   "metadata": {},
   "outputs": [],
   "source": [
    "near_original = bounds.min()"
   ]
  },
  {
   "cell_type": "code",
   "execution_count": 23,
   "id": "32cc2eed-e128-4d1a-a45d-cc5fb605b3f2",
   "metadata": {},
   "outputs": [
    {
     "data": {
      "text/plain": [
       "2.0559904843130434"
      ]
     },
     "execution_count": 23,
     "metadata": {},
     "output_type": "execute_result"
    }
   ],
   "source": [
    "near_original"
   ]
  },
  {
   "cell_type": "code",
   "execution_count": 24,
   "id": "212a1aaf-8b95-4fc7-95f7-b0195b5990ce",
   "metadata": {},
   "outputs": [
    {
     "data": {
      "text/plain": [
       "0.6485114320841969"
      ]
     },
     "execution_count": 24,
     "metadata": {},
     "output_type": "execute_result"
    }
   ],
   "source": [
    "1./(near_original * 0.75)"
   ]
  },
  {
   "cell_type": "code",
   "execution_count": 25,
   "id": "d12d001c-e65d-4a55-b447-0bca611560bc",
   "metadata": {},
   "outputs": [
    {
     "data": {
      "text/plain": [
       "1.3333333333333335"
      ]
     },
     "execution_count": 25,
     "metadata": {},
     "output_type": "execute_result"
    }
   ],
   "source": [
    "near_original*(1./(near_original * 0.75))"
   ]
  },
  {
   "cell_type": "code",
   "execution_count": 26,
   "id": "7549c7dc-b409-48c3-8546-d0e0c013cee5",
   "metadata": {},
   "outputs": [],
   "source": [
    "scale_factor = near_original*0.75 # 0.75 is the default parameter\n",
    "                                          # the nearest depth is at 1/0.75=1.33"
   ]
  },
  {
   "cell_type": "code",
   "execution_count": 35,
   "id": "dab45c58-821d-482e-a73c-dc2ab86ba838",
   "metadata": {},
   "outputs": [],
   "source": [
    "near_original = bounds.min()\n",
    "scale_factor = near_original*0.75 "
   ]
  },
  {
   "cell_type": "code",
   "execution_count": 37,
   "id": "97c113a2-3c03-46b2-b300-5f649b188d6e",
   "metadata": {},
   "outputs": [],
   "source": [
    "bounds /= scale_factor\n",
    "poses[..., 3] /= scale_factor"
   ]
  },
  {
   "cell_type": "code",
   "execution_count": 48,
   "id": "2ae749c9-c4c8-42ef-8fa7-cc3d7454c7b5",
   "metadata": {},
   "outputs": [],
   "source": [
    "img_wh=(504, 378)\n",
    "\n",
    "directions = get_ray_directions(img_wh[1], img_wh[0], focal) # (H, W, 3)"
   ]
  }
 ],
 "metadata": {
  "kernelspec": {
   "display_name": "Python 3",
   "language": "python",
   "name": "python3"
  },
  "language_info": {
   "codemirror_mode": {
    "name": "ipython",
    "version": 3
   },
   "file_extension": ".py",
   "mimetype": "text/x-python",
   "name": "python",
   "nbconvert_exporter": "python",
   "pygments_lexer": "ipython3",
   "version": "3.8.5"
  }
 },
 "nbformat": 4,
 "nbformat_minor": 5
}
