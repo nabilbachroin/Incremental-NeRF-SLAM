{
 "cells": [
  {
   "cell_type": "code",
   "execution_count": 1,
   "id": "1b7df536-5943-411b-a6f6-8c829e61e7ab",
   "metadata": {},
   "outputs": [],
   "source": [
    "import sys\n",
    "sys.path.append(\"../\")"
   ]
  },
  {
   "cell_type": "code",
   "execution_count": 2,
   "id": "c72c209d-d02f-4e4a-9d46-3315f69f2f76",
   "metadata": {},
   "outputs": [],
   "source": [
    "%reload_ext autoreload\n",
    "%autoreload 2"
   ]
  },
  {
   "cell_type": "code",
   "execution_count": 3,
   "id": "11a317d4-abe0-4998-91be-3bddfb1666a0",
   "metadata": {},
   "outputs": [],
   "source": [
    "import numpy as np\n",
    "import os\n",
    "import matplotlib.pyplot as plt\n",
    "\n",
    "from datasets.llff import LLFFDataset\n",
    "from datasets.llff import *"
   ]
  },
  {
   "cell_type": "code",
   "execution_count": 4,
   "id": "b2cc0bd3-f627-4135-95a0-d25c5aa7232a",
   "metadata": {},
   "outputs": [],
   "source": [
    "root_dir = \"/scratch/saksham/data/freiburg_small/\""
   ]
  },
  {
   "cell_type": "code",
   "execution_count": 5,
   "id": "8ef59a6c-aa2c-49b6-b67d-381b15fc8d3d",
   "metadata": {},
   "outputs": [],
   "source": [
    "from datasets.colmap_utils import \\\n",
    "    read_cameras_binary, read_images_binary, read_points3d_binary"
   ]
  },
  {
   "cell_type": "code",
   "execution_count": 6,
   "id": "cf292d8f-e9d6-4d4d-b991-849ca363e0d5",
   "metadata": {},
   "outputs": [],
   "source": [
    "img_wh = (80,60)\n",
    "\n",
    "camdata = read_cameras_binary(os.path.join(root_dir, 'sparse/0/cameras.bin'))\n",
    "H = camdata[1].height\n",
    "W = camdata[1].width\n",
    "focal = camdata[1].params[0] * img_wh[0]/W"
   ]
  },
  {
   "cell_type": "code",
   "execution_count": 7,
   "id": "74c6da07-7af1-4b38-b055-0c9a1c579150",
   "metadata": {},
   "outputs": [],
   "source": [
    "imdata = read_images_binary(os.path.join(root_dir, 'sparse/0/images.bin'))"
   ]
  },
  {
   "cell_type": "code",
   "execution_count": 8,
   "id": "54e03480-e543-4e74-a034-a0a528fd2dbb",
   "metadata": {},
   "outputs": [],
   "source": [
    "perm = np.argsort([imdata[k].name for k in imdata])"
   ]
  },
  {
   "cell_type": "code",
   "execution_count": 9,
   "id": "47bc9c09-be7f-49c4-85d7-d84cda5c90e6",
   "metadata": {},
   "outputs": [],
   "source": [
    "image_paths = [os.path.join(root_dir, 'images', name)\n",
    "                            for name in sorted([imdata[k].name for k in imdata])]"
   ]
  },
  {
   "cell_type": "code",
   "execution_count": 10,
   "id": "84e94f83-1a98-40a9-aaf7-136f9136602c",
   "metadata": {},
   "outputs": [],
   "source": [
    "image_paths = [os.path.join(root_dir, 'images', name)\n",
    "                            for name in sorted([imdata[k].name for k in imdata])]"
   ]
  },
  {
   "cell_type": "code",
   "execution_count": 11,
   "id": "c4a0ed0d-71c2-4e41-961c-faef4d245ee0",
   "metadata": {},
   "outputs": [],
   "source": [
    "w2c_mats = []\n",
    "bottom = np.array([0, 0, 0, 1.]).reshape(1, 4)\n",
    "for k in imdata:\n",
    "    im = imdata[k]\n",
    "    R = im.qvec2rotmat()\n",
    "    t = im.tvec.reshape(3, 1)\n",
    "    w2c_mats += [np.concatenate([np.concatenate([R, t], 1), bottom], 0)]\n",
    "w2c_mats = np.stack(w2c_mats, 0)\n",
    "poses = np.linalg.inv(w2c_mats)[:, :3] # (N_images, 3, 4) cam2world matrices"
   ]
  },
  {
   "cell_type": "code",
   "execution_count": 12,
   "id": "2a7f697a-33d5-40ff-b272-d74daeafbf21",
   "metadata": {},
   "outputs": [],
   "source": [
    "bounds = np.zeros((len(poses), 2)) # (N_images, 2)\n",
    "pts3d = read_points3d_binary(os.path.join(root_dir, 'sparse/0/points3D.bin'))"
   ]
  },
  {
   "cell_type": "code",
   "execution_count": 13,
   "id": "b402869b-0216-403c-b592-bde29985a22b",
   "metadata": {},
   "outputs": [],
   "source": [
    "pts_world = np.zeros((1, 3, len(pts3d))) # (1, 3, N_points)\n",
    "visibilities = np.zeros((len(poses), len(pts3d))) # (N_images, N_points)\n",
    "for i, k in enumerate(pts3d):\n",
    "    pts_world[0, :, i] = pts3d[k].xyz\n",
    "    for j in pts3d[k].image_ids:\n",
    "        visibilities[j-1, i] = 1\n",
    "        "
   ]
  },
  {
   "cell_type": "code",
   "execution_count": 14,
   "id": "c8cd4c9a-c9d4-4fe5-b117-a68accd28070",
   "metadata": {},
   "outputs": [],
   "source": [
    "depths = ((pts_world-poses[..., 3:4])*poses[..., 2:3]).sum(1) # (N_images, N_points)\n",
    "for i in range(len(poses)):\n",
    "    visibility_i = visibilities[i]\n",
    "    zs = depths[i][visibility_i==1]\n",
    "    bounds[i] = [np.percentile(zs, 0.1), np.percentile(zs, 99.9)]\n",
    "# permute the matrices to increasing order\n",
    "poses = poses[perm]\n",
    "bounds = bounds[perm]"
   ]
  },
  {
   "cell_type": "code",
   "execution_count": 15,
   "id": "d25f67e5-3fc0-4432-b0db-9e9b804d89d4",
   "metadata": {},
   "outputs": [
    {
     "data": {
      "text/plain": [
       "(101, 3, 4)"
      ]
     },
     "execution_count": 15,
     "metadata": {},
     "output_type": "execute_result"
    }
   ],
   "source": [
    "poses.shape"
   ]
  },
  {
   "cell_type": "code",
   "execution_count": 16,
   "id": "dce9dee1-2cc0-402e-9244-a28e1e3cb3f5",
   "metadata": {},
   "outputs": [],
   "source": [
    "poses = np.concatenate([poses[..., 0:1], -poses[..., 1:3], poses[..., 3:4]], -1)"
   ]
  },
  {
   "cell_type": "code",
   "execution_count": 17,
   "id": "43ed5cc0-76c8-4875-a8df-1c780ae15940",
   "metadata": {},
   "outputs": [],
   "source": [
    "poses = poses[:30]\n",
    "image_paths = image_paths[:30]\n",
    "bounds = bounds[:30]"
   ]
  },
  {
   "cell_type": "code",
   "execution_count": 18,
   "id": "8e7321ad-58e4-4e1b-b781-c95b95377405",
   "metadata": {},
   "outputs": [],
   "source": [
    "poses, _ = center_poses(poses)"
   ]
  },
  {
   "cell_type": "code",
   "execution_count": 19,
   "id": "f4593083-43ea-4552-9928-af9d4352d32c",
   "metadata": {},
   "outputs": [],
   "source": [
    "distances_from_center = np.linalg.norm(poses[..., 3], axis=1)"
   ]
  },
  {
   "cell_type": "code",
   "execution_count": 20,
   "id": "bb6c1c98-0bd0-43e4-a7f1-0fc1b0ab31eb",
   "metadata": {},
   "outputs": [],
   "source": [
    "val_idx = np.argmin(distances_from_center) # choose val image as the closest to\n",
    "                                                   # center image"
   ]
  },
  {
   "cell_type": "code",
   "execution_count": 21,
   "id": "dd6840c5-af04-43bf-b56e-7e56bff3f0cf",
   "metadata": {},
   "outputs": [],
   "source": [
    "near_original = bounds.min()"
   ]
  },
  {
   "cell_type": "code",
   "execution_count": 22,
   "id": "88622931-9768-4670-be49-31b48409be14",
   "metadata": {},
   "outputs": [
    {
     "data": {
      "text/plain": [
       "2.0559904843130434"
      ]
     },
     "execution_count": 22,
     "metadata": {},
     "output_type": "execute_result"
    }
   ],
   "source": [
    "near_original"
   ]
  },
  {
   "cell_type": "code",
   "execution_count": 23,
   "id": "143d9fd5-e33b-488e-9330-2469f4387935",
   "metadata": {},
   "outputs": [],
   "source": [
    "directions = get_ray_directions(img_wh[1], img_wh[0], focal) # (H, W, 3)"
   ]
  },
  {
   "cell_type": "code",
   "execution_count": 24,
   "id": "32148980-ac2d-4558-aef8-670f0e94b8ae",
   "metadata": {},
   "outputs": [],
   "source": [
    "index = 5\n",
    "\n",
    "c2w = torch.FloatTensor(poses[index])"
   ]
  },
  {
   "cell_type": "code",
   "execution_count": 25,
   "id": "54dd9d6b-70d3-4f86-b820-00bac87c3ff6",
   "metadata": {},
   "outputs": [],
   "source": [
    "rays_o, rays_d = get_rays(directions, c2w) "
   ]
  },
  {
   "cell_type": "code",
   "execution_count": 26,
   "id": "5850f0e4-f656-4199-8b01-08dc1e28e2bf",
   "metadata": {},
   "outputs": [],
   "source": [
    "H = img_wh[1]\n",
    "W = img_wh[0]\n",
    "near = 1"
   ]
  },
  {
   "cell_type": "code",
   "execution_count": 27,
   "id": "e9d9ed1f-769a-447d-84f0-8426c25e872a",
   "metadata": {},
   "outputs": [
    {
     "data": {
      "text/plain": [
       "tensor([[0.8979, 0.3870, 0.0262],\n",
       "        [0.8979, 0.3870, 0.0262],\n",
       "        [0.8979, 0.3870, 0.0262],\n",
       "        ...,\n",
       "        [0.8979, 0.3870, 0.0262],\n",
       "        [0.8979, 0.3870, 0.0262],\n",
       "        [0.8979, 0.3870, 0.0262]])"
      ]
     },
     "execution_count": 27,
     "metadata": {},
     "output_type": "execute_result"
    }
   ],
   "source": [
    "rays_o"
   ]
  },
  {
   "cell_type": "code",
   "execution_count": 28,
   "id": "a5723e92-5331-4de1-8a23-86b1984ceeeb",
   "metadata": {},
   "outputs": [
    {
     "data": {
      "text/plain": [
       "tensor([0.0262, 0.0262, 0.0262,  ..., 0.0262, 0.0262, 0.0262])"
      ]
     },
     "execution_count": 28,
     "metadata": {},
     "output_type": "execute_result"
    }
   ],
   "source": [
    "rays_o[...,2]"
   ]
  },
  {
   "cell_type": "code",
   "execution_count": 29,
   "id": "91c8f88f-bb73-4d72-aa13-fa8993b15667",
   "metadata": {},
   "outputs": [],
   "source": [
    "t = -(near + rays_o[...,2]) / rays_d[...,2]"
   ]
  },
  {
   "cell_type": "code",
   "execution_count": 30,
   "id": "c4040068-ac02-4078-bf69-25b6098eb7c9",
   "metadata": {},
   "outputs": [
    {
     "data": {
      "text/plain": [
       "tensor([[1.3846],\n",
       "        [1.3749],\n",
       "        [1.3655],\n",
       "        ...,\n",
       "        [1.1647],\n",
       "        [1.1695],\n",
       "        [1.1744]])"
      ]
     },
     "execution_count": 30,
     "metadata": {},
     "output_type": "execute_result"
    }
   ],
   "source": [
    "t[...,None]"
   ]
  },
  {
   "cell_type": "code",
   "execution_count": 31,
   "id": "a592f40c-e3c7-45fd-8cf9-60692c178f7b",
   "metadata": {},
   "outputs": [
    {
     "data": {
      "text/plain": [
       "tensor([1.3846, 1.3749, 1.3655,  ..., 1.1647, 1.1695, 1.1744])"
      ]
     },
     "execution_count": 31,
     "metadata": {},
     "output_type": "execute_result"
    }
   ],
   "source": [
    "t"
   ]
  },
  {
   "cell_type": "code",
   "execution_count": 32,
   "id": "62c8d284-6e4f-4ff2-8949-11a5d5de44de",
   "metadata": {},
   "outputs": [],
   "source": [
    "t = -(near + rays_o[...,2]) / rays_d[...,2]\n",
    "rays_o = rays_o + t[...,None] * rays_d\n",
    "\n",
    "# Store some intermediate homogeneous results\n",
    "ox_oz = rays_o[...,0] / rays_o[...,2]\n",
    "oy_oz = rays_o[...,1] / rays_o[...,2]\n",
    "\n",
    "# Projection\n",
    "o0 = -1./(W/(2.*focal)) * ox_oz\n",
    "o1 = -1./(H/(2.*focal)) * oy_oz\n",
    "o2 = 1. + 2. * near / rays_o[...,2]\n",
    "\n",
    "d0 = -1./(W/(2.*focal)) * (rays_d[...,0]/rays_d[...,2] - ox_oz)\n",
    "d1 = -1./(H/(2.*focal)) * (rays_d[...,1]/rays_d[...,2] - oy_oz)\n",
    "d2 = 1 - o2\n",
    "\n",
    "rays_o = torch.stack([o0, o1, o2], -1) # (B, 3)\n",
    "rays_d = torch.stack([d0, d1, d2], -1) # (B, 3)"
   ]
  },
  {
   "cell_type": "code",
   "execution_count": 33,
   "id": "4f887fb4-df1a-4302-add4-72214a31caf4",
   "metadata": {},
   "outputs": [
    {
     "data": {
      "text/plain": [
       "tensor([[ 0.1366,  1.8980, -1.0000],\n",
       "        [ 0.1663,  1.9014, -1.0000],\n",
       "        [ 0.1959,  1.9048, -1.0000],\n",
       "        ...,\n",
       "        [ 2.3440,  0.2095, -1.0000],\n",
       "        [ 2.3666,  0.2146, -1.0000],\n",
       "        [ 2.3892,  0.2198, -1.0000]])"
      ]
     },
     "execution_count": 33,
     "metadata": {},
     "output_type": "execute_result"
    }
   ],
   "source": [
    "rays_o"
   ]
  },
  {
   "cell_type": "code",
   "execution_count": 34,
   "id": "b89f8f3b-39ed-43c0-a01d-655a7fc9d6d0",
   "metadata": {},
   "outputs": [
    {
     "data": {
      "text/plain": [
       "tensor([[-1.5084, -0.9135,  2.0000],\n",
       "        [-1.5092, -0.9136,  2.0000],\n",
       "        [-1.5100, -0.9136,  2.0000],\n",
       "        ...,\n",
       "        [-1.5649, -0.8703,  2.0000],\n",
       "        [-1.5655, -0.8704,  2.0000],\n",
       "        [-1.5660, -0.8706,  2.0000]])"
      ]
     },
     "execution_count": 34,
     "metadata": {},
     "output_type": "execute_result"
    }
   ],
   "source": [
    "rays_d"
   ]
  }
 ],
 "metadata": {
  "kernelspec": {
   "display_name": "Python 3",
   "language": "python",
   "name": "python3"
  },
  "language_info": {
   "codemirror_mode": {
    "name": "ipython",
    "version": 3
   },
   "file_extension": ".py",
   "mimetype": "text/x-python",
   "name": "python",
   "nbconvert_exporter": "python",
   "pygments_lexer": "ipython3",
   "version": "3.8.5"
  }
 },
 "nbformat": 4,
 "nbformat_minor": 5
}
