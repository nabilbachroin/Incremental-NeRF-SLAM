{
 "cells": [
  {
   "cell_type": "code",
   "execution_count": 1,
   "id": "03600b3b-90eb-4eed-9176-3d6569099253",
   "metadata": {},
   "outputs": [],
   "source": [
    "import torch\n",
    "\n",
    "from gradslam.datasets.tum import TUM"
   ]
  },
  {
   "cell_type": "code",
   "execution_count": 2,
   "id": "5f809007-e580-4575-b014-a3d7da42ae31",
   "metadata": {},
   "outputs": [],
   "source": [
    "dataset = TUM(\"/scratch/saksham/data/tum/\", sequences = \"../sequences.txt\")"
   ]
  },
  {
   "cell_type": "code",
   "execution_count": 3,
   "id": "539cfe80-97bd-4c85-b924-869488d9e8d6",
   "metadata": {},
   "outputs": [
    {
     "data": {
      "text/plain": [
       "143"
      ]
     },
     "execution_count": 3,
     "metadata": {},
     "output_type": "execute_result"
    }
   ],
   "source": [
    "len(dataset)"
   ]
  },
  {
   "cell_type": "code",
   "execution_count": 42,
   "id": "ed68d6dc-228c-429e-8486-5e40b47abc8b",
   "metadata": {},
   "outputs": [],
   "source": [
    "depths = []\n",
    "\n",
    "for i in range(len(dataset)):\n",
    "    colors, depth, intrinsics, poses, transforms, names, timestamps = dataset[i]\n",
    "    depths.append(depth)"
   ]
  },
  {
   "cell_type": "code",
   "execution_count": 86,
   "id": "3f5235bb-3cdc-4c7a-b08c-cac47f9c583b",
   "metadata": {},
   "outputs": [],
   "source": [
    "depth = depths[0][0]"
   ]
  },
  {
   "cell_type": "code",
   "execution_count": 87,
   "id": "a9dea303-d691-463c-b190-23bbb49bd911",
   "metadata": {},
   "outputs": [],
   "source": [
    "depth = depth.squeeze(-1).numpy()\n",
    "import cv2\n",
    "depth = cv2.resize(depth, (img_wh), interpolation = cv2.INTER_NEAREST)\n",
    "mask = 1 - ((depth).astype('uint8'))==0        \n",
    "mask = torch.Tensor(mask)\n",
    "mask = mask.view(1, -1).permute(1,0)\n",
    "depth = torch.Tensor(depth)\n",
    "depth = depth.view(1, -1).permute(1,0)"
   ]
  },
  {
   "cell_type": "code",
   "execution_count": 89,
   "id": "e4f978fa-93f5-449e-9fbc-ed6dfc73d5d5",
   "metadata": {},
   "outputs": [
    {
     "data": {
      "text/plain": [
       "tensor(2.0024)"
      ]
     },
     "execution_count": 89,
     "metadata": {},
     "output_type": "execute_result"
    }
   ],
   "source": [
    "depth.max()"
   ]
  },
  {
   "cell_type": "code",
   "execution_count": null,
   "id": "ee01cf06-f32f-4086-8583-a2d79e7b4942",
   "metadata": {},
   "outputs": [],
   "source": []
  }
 ],
 "metadata": {
  "kernelspec": {
   "display_name": "Python 3",
   "language": "python",
   "name": "python3"
  },
  "language_info": {
   "codemirror_mode": {
    "name": "ipython",
    "version": 3
   },
   "file_extension": ".py",
   "mimetype": "text/x-python",
   "name": "python",
   "nbconvert_exporter": "python",
   "pygments_lexer": "ipython3",
   "version": "3.8.5"
  }
 },
 "nbformat": 4,
 "nbformat_minor": 5
}
