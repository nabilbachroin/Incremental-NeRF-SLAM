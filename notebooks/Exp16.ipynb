{
 "cells": [
  {
   "cell_type": "code",
   "execution_count": 1,
   "id": "ffeefc9e-6044-48f7-86d9-5f235fab36fc",
   "metadata": {},
   "outputs": [],
   "source": [
    "# import necessary packages\n",
    "from typing import Sequence\n",
    "import gradslam as gs\n",
    "import matplotlib.pyplot as plt\n",
    "import numpy as np\n",
    "import os\n",
    "import torch\n",
    "from gradslam import Pointclouds, RGBDImages\n",
    "from gradslam.datasets import TUM\n",
    "from gradslam.slam import PointFusion\n",
    "from torch.utils.data import DataLoader"
   ]
  },
  {
   "cell_type": "code",
   "execution_count": 2,
   "id": "56183640-879f-4e38-9472-369820a64dc3",
   "metadata": {},
   "outputs": [],
   "source": [
    "path = \"/scratch/saksham/data/tum\"\n",
    "sequences = \"../sequences.txt\""
   ]
  },
  {
   "cell_type": "code",
   "execution_count": 3,
   "id": "b2fffce2-2e7a-4eac-8354-b4006ad2a0dd",
   "metadata": {},
   "outputs": [],
   "source": [
    "# class TUM_D(torch.utils.data):\n",
    "    \n",
    "#     def __init__(self,dataset):\n",
    "#         self.dataset=dataset\n",
    "        \n",
    "#     def __getitem__(self, index):\n",
    "        \n",
    "#         colors, depths, intrinsics, poses, *_  = self.dataset[index]\n",
    "        \n",
    "\n",
    "\n",
    "\n"
   ]
  },
  {
   "cell_type": "code",
   "execution_count": 4,
   "id": "8b8f7a7a-72c8-41aa-a1ef-261ff0411ee8",
   "metadata": {},
   "outputs": [],
   "source": [
    "# load dataset\n",
    "dataset = TUM(path, sequences = sequences , start = 56, seqlen = 30, height = 60, width = 80)\n",
    "loader = DataLoader(dataset=dataset, batch_size=32)\n",
    "colors, depths, intrinsics, poses, *_ = next(iter(loader))"
   ]
  },
  {
   "cell_type": "code",
   "execution_count": 5,
   "id": "a7c85b15-7e49-497e-a92a-9f99f9790001",
   "metadata": {},
   "outputs": [],
   "source": [
    "# create rgbdimages object\n",
    "rgbdimages = RGBDImages(colors, depths, intrinsics, poses)"
   ]
  },
  {
   "cell_type": "code",
   "execution_count": 6,
   "id": "e566a192-b398-4405-b364-bf35931f4274",
   "metadata": {},
   "outputs": [],
   "source": [
    "colors, depths, intrinsics, poses, *_ = dataset[0]"
   ]
  },
  {
   "cell_type": "code",
   "execution_count": 7,
   "id": "7903020f-ab8e-4bf3-b1ce-fef084f6dc74",
   "metadata": {},
   "outputs": [],
   "source": [
    "# step by step SLAM\n",
    "device = torch.device(\"cuda\") if torch.cuda.is_available() else torch.device(\"cpu\")\n",
    "slam = PointFusion(device=device)"
   ]
  },
  {
   "cell_type": "code",
   "execution_count": 8,
   "id": "36bcc9b9-6b48-4e1a-9ec2-3d70b230b779",
   "metadata": {},
   "outputs": [],
   "source": [
    "pointclouds = Pointclouds(device=device)\n",
    "pointclouds, recovered_poses = slam(rgbdimages)"
   ]
  },
  {
   "cell_type": "code",
   "execution_count": 9,
   "id": "6cdafa78-3ad2-4da3-9ce1-294d7cdcb050",
   "metadata": {},
   "outputs": [],
   "source": [
    "pts3D = (pointclouds.points_list[0]).cpu().numpy()"
   ]
  },
  {
   "cell_type": "code",
   "execution_count": 10,
   "id": "209ff0ff-12c1-4c43-8257-c9137e99779a",
   "metadata": {},
   "outputs": [],
   "source": [
    "poses = poses.numpy()"
   ]
  },
  {
   "cell_type": "code",
   "execution_count": 11,
   "id": "1b63f62e-f577-4d2d-ad4c-a594402364da",
   "metadata": {},
   "outputs": [],
   "source": [
    "poses = poses[:, :3]"
   ]
  },
  {
   "cell_type": "code",
   "execution_count": 12,
   "id": "a580a950-2d88-4a9a-8594-52e6f475e2dd",
   "metadata": {},
   "outputs": [],
   "source": [
    "bounds = np.zeros((len(poses), 2))\n",
    "visibilities = np.zeros((len(poses), len(pts3D)))\n",
    "pts_world = np.zeros((1, 3, len(pts3D))) # (1, 3, N_points)\n",
    "visibilities = np.zeros((len(poses), len(pts3D))) # (N_images, N_points)"
   ]
  },
  {
   "cell_type": "code",
   "execution_count": 13,
   "id": "db5b99c8-7bdb-424d-bc5c-f330f281db78",
   "metadata": {},
   "outputs": [],
   "source": [
    "for i, k in enumerate(pts3D):\n",
    "    pts_world[0, :, i] = pts3D[i]"
   ]
  },
  {
   "cell_type": "code",
   "execution_count": 14,
   "id": "6768d87f-cce4-4bad-bb13-b12c40f735fd",
   "metadata": {},
   "outputs": [],
   "source": [
    "depths = ((pts_world-poses[..., 3:4])*poses[..., 2:3]).sum(1) "
   ]
  },
  {
   "cell_type": "code",
   "execution_count": 15,
   "id": "b94da062-5741-4d79-9071-846b9bb7185d",
   "metadata": {},
   "outputs": [],
   "source": [
    "for i in range(len(poses)):\n",
    "    zs = depths[i]\n",
    "    bounds[i] = [np.percentile(zs, 0.1), np.percentile(zs, 99.9)]"
   ]
  },
  {
   "cell_type": "code",
   "execution_count": 16,
   "id": "b8391ac3-b25d-4413-89cf-1df080dd16b2",
   "metadata": {},
   "outputs": [],
   "source": [
    "near = bounds.min()"
   ]
  },
  {
   "cell_type": "code",
   "execution_count": 17,
   "id": "0e788dea-eb07-442c-b60d-c65c398bda8b",
   "metadata": {},
   "outputs": [],
   "source": [
    "far = bounds.max()"
   ]
  },
  {
   "cell_type": "code",
   "execution_count": 18,
   "id": "7d3ac48d-4173-4e9e-91da-e67903f0749f",
   "metadata": {},
   "outputs": [
    {
     "data": {
      "text/plain": [
       "0.6634061115078476"
      ]
     },
     "execution_count": 18,
     "metadata": {},
     "output_type": "execute_result"
    }
   ],
   "source": [
    "near"
   ]
  },
  {
   "cell_type": "code",
   "execution_count": 19,
   "id": "b0a77ed1-15a9-43a8-ad21-fdf126af88b6",
   "metadata": {},
   "outputs": [
    {
     "data": {
      "text/plain": [
       "3.5994947452704773"
      ]
     },
     "execution_count": 19,
     "metadata": {},
     "output_type": "execute_result"
    }
   ],
   "source": [
    "far"
   ]
  },
  {
   "cell_type": "code",
   "execution_count": 20,
   "id": "fc8ee79b-e680-418a-8eb8-235943ce57ef",
   "metadata": {},
   "outputs": [],
   "source": [
    "scale_factor = far/0.75"
   ]
  },
  {
   "cell_type": "code",
   "execution_count": 21,
   "id": "d29c6253-6c6e-4495-b0b5-3621d69d7dc5",
   "metadata": {},
   "outputs": [
    {
     "data": {
      "text/plain": [
       "4.799326327027303"
      ]
     },
     "execution_count": 21,
     "metadata": {},
     "output_type": "execute_result"
    }
   ],
   "source": [
    "scale_factor"
   ]
  }
 ],
 "metadata": {
  "kernelspec": {
   "display_name": "Python 3",
   "language": "python",
   "name": "python3"
  },
  "language_info": {
   "codemirror_mode": {
    "name": "ipython",
    "version": 3
   },
   "file_extension": ".py",
   "mimetype": "text/x-python",
   "name": "python",
   "nbconvert_exporter": "python",
   "pygments_lexer": "ipython3",
   "version": "3.8.5"
  }
 },
 "nbformat": 4,
 "nbformat_minor": 5
}
