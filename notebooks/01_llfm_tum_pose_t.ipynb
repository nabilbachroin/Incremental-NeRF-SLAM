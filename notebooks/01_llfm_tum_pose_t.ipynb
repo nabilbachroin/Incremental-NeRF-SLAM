{
 "cells": [
  {
   "cell_type": "code",
   "execution_count": 1,
   "id": "143ae930-eeae-45b6-b211-f3b70fc273b4",
   "metadata": {},
   "outputs": [],
   "source": [
    "import sys\n",
    "sys.path.append(\"../\")"
   ]
  },
  {
   "cell_type": "code",
   "execution_count": 2,
   "id": "7a7c8473-d813-4433-806b-33c137316b2a",
   "metadata": {},
   "outputs": [],
   "source": [
    "%reload_ext autoreload\n",
    "%autoreload 2"
   ]
  },
  {
   "cell_type": "code",
   "execution_count": 3,
   "id": "fb553bf9-de76-4e36-b9b9-b62b33879d6f",
   "metadata": {},
   "outputs": [],
   "source": [
    "import sys\n",
    "sys.path.append(\"../\")\n",
    "\n",
    "import numpy as np\n",
    "import os\n",
    "import cv2\n",
    "import matplotlib.pyplot as plt\n",
    "\n",
    "from datasets.llff import LLFFDataset\n",
    "from datasets.llff import *"
   ]
  },
  {
   "cell_type": "code",
   "execution_count": 4,
   "id": "bd9d1b86-a299-4e88-8e84-81a67b3efae7",
   "metadata": {},
   "outputs": [],
   "source": [
    "root_dir = \"/scratch/saksham/data/freiburg_small/\""
   ]
  },
  {
   "cell_type": "code",
   "execution_count": 5,
   "id": "81f69adc-3a00-4862-993f-9fdbfc587477",
   "metadata": {},
   "outputs": [],
   "source": [
    "from datasets.colmap_utils import \\\n",
    "    read_cameras_binary, read_images_binary, read_points3d_binary\n",
    "from datasets.tum import TUMRGBDDataset"
   ]
  },
  {
   "cell_type": "code",
   "execution_count": 6,
   "id": "55aa5740-2dbc-4f26-858a-70a27e391b17",
   "metadata": {},
   "outputs": [],
   "source": [
    "tum_path = \"/scratch/saksham/data/tum/rgbd_dataset_freiburg1_desk/\"\n",
    "rgb_depth_mapping = TUMRGBDDataset(tum_path).rgb_d_mapping"
   ]
  },
  {
   "cell_type": "code",
   "execution_count": 7,
   "id": "a0919d03-a309-4796-be71-f2662b7bc9f6",
   "metadata": {},
   "outputs": [],
   "source": [
    "img_wh = (80, 60)\n",
    "\n",
    "camdata = read_cameras_binary(os.path.join(root_dir, 'sparse/0/cameras.bin'))\n",
    "H = camdata[1].height\n",
    "W = camdata[1].width\n",
    "focal = camdata[1].params[0] * img_wh[0]/W"
   ]
  },
  {
   "cell_type": "code",
   "execution_count": 8,
   "id": "54fe1981-fcd5-4b0d-9c25-4c6221066152",
   "metadata": {},
   "outputs": [],
   "source": [
    "imdata = read_images_binary(os.path.join(root_dir, 'sparse/0/images.bin'))"
   ]
  },
  {
   "cell_type": "code",
   "execution_count": 9,
   "id": "9f7ae20c-26f8-4715-9cea-cc23ff1824e2",
   "metadata": {},
   "outputs": [],
   "source": [
    "perm = np.argsort([imdata[k].name for k in imdata])"
   ]
  },
  {
   "cell_type": "code",
   "execution_count": 10,
   "id": "1730dae9-4b0e-4a9c-a254-10eecb406b55",
   "metadata": {},
   "outputs": [],
   "source": [
    "image_paths = [os.path.join(root_dir, 'images', name)\n",
    "                            for name in sorted([imdata[k].name for k in imdata])]"
   ]
  },
  {
   "cell_type": "code",
   "execution_count": 11,
   "id": "3630fa8b-db0f-4cbf-876f-090bb2e7e6e9",
   "metadata": {},
   "outputs": [],
   "source": [
    "image_paths = [os.path.join(root_dir, 'images', name)\n",
    "                            for name in sorted([imdata[k].name for k in imdata])]"
   ]
  },
  {
   "cell_type": "code",
   "execution_count": 12,
   "id": "9674a97d-6caa-40b3-af5e-73144a62df0b",
   "metadata": {},
   "outputs": [],
   "source": [
    "w2c_mats = []\n",
    "bottom = np.array([0, 0, 0, 1.]).reshape(1, 4)\n",
    "for k in imdata:\n",
    "    im = imdata[k]\n",
    "    R = im.qvec2rotmat()\n",
    "    t = im.tvec.reshape(3, 1)\n",
    "    w2c_mats += [np.concatenate([np.concatenate([R, t], 1), bottom], 0)]\n",
    "w2c_mats = np.stack(w2c_mats, 0)\n",
    "poses = np.linalg.inv(w2c_mats) # (N_images, 3, 4) cam2world matrices"
   ]
  },
  {
   "cell_type": "code",
   "execution_count": 13,
   "id": "4a33541c-1018-45a2-9aab-b74d0ea44018",
   "metadata": {},
   "outputs": [],
   "source": [
    "poses = torch.from_numpy(poses).float()"
   ]
  },
  {
   "cell_type": "code",
   "execution_count": 14,
   "id": "ea5f8417-c50a-465b-a721-a2dc13b50887",
   "metadata": {},
   "outputs": [],
   "source": [
    "from gradslam.geometry.geometryutils import relative_transformation"
   ]
  },
  {
   "cell_type": "code",
   "execution_count": 15,
   "id": "07fe871e-d704-46ff-85c4-13dc85be42d6",
   "metadata": {},
   "outputs": [],
   "source": [
    "poses = relative_transformation(\n",
    "            poses[0].unsqueeze(0).repeat(poses.shape[0], 1, 1), poses, orthogonal_rotations = True\n",
    "        )"
   ]
  },
  {
   "cell_type": "code",
   "execution_count": 16,
   "id": "1f439dd8-0dad-4e71-a60b-4259a2a0ae69",
   "metadata": {},
   "outputs": [],
   "source": [
    "poses = poses.numpy().astype('float64')"
   ]
  },
  {
   "cell_type": "code",
   "execution_count": 17,
   "id": "9cf617a0-1503-4c1e-889c-29acaaa47ac9",
   "metadata": {},
   "outputs": [
    {
     "data": {
      "text/plain": [
       "(101, 4, 4)"
      ]
     },
     "execution_count": 17,
     "metadata": {},
     "output_type": "execute_result"
    }
   ],
   "source": [
    "poses.shape"
   ]
  },
  {
   "cell_type": "code",
   "execution_count": 18,
   "id": "13850f64-9981-4089-b2d4-3a81d09bc527",
   "metadata": {},
   "outputs": [],
   "source": [
    "np.save(\"colmap2.npy\", poses[:30])"
   ]
  },
  {
   "cell_type": "code",
   "execution_count": 14,
   "id": "a48d6270-5f48-45a4-a3d7-bb61e1520372",
   "metadata": {},
   "outputs": [],
   "source": [
    "bounds = np.zeros((len(poses), 2)) # (N_images, 2)\n",
    "pts3d = read_points3d_binary(os.path.join(root_dir, 'sparse/0/points3D.bin'))"
   ]
  },
  {
   "cell_type": "code",
   "execution_count": 15,
   "id": "02303c2a-035d-4068-941e-e105402fd2ad",
   "metadata": {},
   "outputs": [],
   "source": [
    "pts_world = np.zeros((1, 3, len(pts3d))) # (1, 3, N_points)\n",
    "visibilities = np.zeros((len(poses), len(pts3d))) # (N_images, N_points)\n",
    "for i, k in enumerate(pts3d):\n",
    "    pts_world[0, :, i] = pts3d[k].xyz\n",
    "    for j in pts3d[k].image_ids:\n",
    "        visibilities[j-1, i] = 1"
   ]
  },
  {
   "cell_type": "code",
   "execution_count": 16,
   "id": "e2a56660-e148-4c94-b2cf-5834c4ac9451",
   "metadata": {},
   "outputs": [],
   "source": [
    "depths = ((pts_world-poses[..., 3:4])*poses[..., 2:3]).sum(1) # (N_images, N_points)\n",
    "for i in range(len(poses)):\n",
    "    visibility_i = visibilities[i]\n",
    "    zs = depths[i][visibility_i==1]\n",
    "    bounds[i] = [np.percentile(zs, 0.1), np.percentile(zs, 99.9)]\n",
    "# permute the matrices to increasing order\n",
    "poses = poses[perm]\n",
    "bounds = bounds[perm]"
   ]
  },
  {
   "cell_type": "code",
   "execution_count": 17,
   "id": "4e055892-41e8-4e8d-801a-46da0d63c1ee",
   "metadata": {},
   "outputs": [
    {
     "data": {
      "text/plain": [
       "(101, 3, 4)"
      ]
     },
     "execution_count": 17,
     "metadata": {},
     "output_type": "execute_result"
    }
   ],
   "source": [
    "poses.shape"
   ]
  },
  {
   "cell_type": "code",
   "execution_count": 18,
   "id": "199b3a1b-831f-4c29-88bb-cdd5dd50aeca",
   "metadata": {},
   "outputs": [],
   "source": [
    "poses = np.concatenate([poses[..., 0:1], -poses[..., 1:3], poses[..., 3:4]], -1)"
   ]
  },
  {
   "cell_type": "code",
   "execution_count": 19,
   "id": "12fb3b97-9ce8-452d-8d9a-4b9c0f09a4be",
   "metadata": {},
   "outputs": [],
   "source": [
    "# poses = poses[:30]\n",
    "# image_paths = image_paths[:30]\n",
    "# bounds = bounds[:30]"
   ]
  },
  {
   "cell_type": "code",
   "execution_count": 20,
   "id": "6bbd1399-4076-4a87-b031-cab5c1320295",
   "metadata": {},
   "outputs": [],
   "source": [
    "poses, _ = center_poses(poses)"
   ]
  },
  {
   "cell_type": "code",
   "execution_count": 21,
   "id": "3105f059-a64b-4a6a-827e-db0d3685dca8",
   "metadata": {},
   "outputs": [],
   "source": [
    "distances_from_center = np.linalg.norm(poses[..., 3], axis=1)"
   ]
  },
  {
   "cell_type": "code",
   "execution_count": 22,
   "id": "6eef1077-26f3-49f4-8c6f-9da6812ff13e",
   "metadata": {},
   "outputs": [],
   "source": [
    "val_idx = np.argmin(distances_from_center) # choose val image as the closest to\n",
    "                                                   # center image"
   ]
  },
  {
   "cell_type": "code",
   "execution_count": 23,
   "id": "f7c7d4bc-4815-46ae-8f56-f78b1a82ef56",
   "metadata": {},
   "outputs": [
    {
     "data": {
      "text/plain": [
       "2.0559904843130434"
      ]
     },
     "execution_count": 23,
     "metadata": {},
     "output_type": "execute_result"
    }
   ],
   "source": [
    "bounds.min()"
   ]
  },
  {
   "cell_type": "code",
   "execution_count": 24,
   "id": "baf5edc9-a9ab-4b2a-bb97-595954572e0d",
   "metadata": {},
   "outputs": [
    {
     "data": {
      "text/plain": [
       "28.39163776138985"
      ]
     },
     "execution_count": 24,
     "metadata": {},
     "output_type": "execute_result"
    }
   ],
   "source": [
    "bounds.max()"
   ]
  },
  {
   "cell_type": "code",
   "execution_count": 25,
   "id": "db737a74-6eb0-4f26-8b0e-7727be53d921",
   "metadata": {},
   "outputs": [],
   "source": [
    "near_original = bounds.min()"
   ]
  },
  {
   "cell_type": "code",
   "execution_count": 26,
   "id": "0e9318f8-87d6-4f3c-b242-8de869ec8662",
   "metadata": {},
   "outputs": [],
   "source": [
    "scale_factor = near_original*0.75"
   ]
  },
  {
   "cell_type": "code",
   "execution_count": 27,
   "id": "212a1aaf-8b95-4fc7-95f7-b0195b5990ce",
   "metadata": {},
   "outputs": [
    {
     "data": {
      "text/plain": [
       "1.5419928632347826"
      ]
     },
     "execution_count": 27,
     "metadata": {},
     "output_type": "execute_result"
    }
   ],
   "source": [
    "scale_factor"
   ]
  },
  {
   "cell_type": "code",
   "execution_count": 28,
   "id": "97c113a2-3c03-46b2-b300-5f649b188d6e",
   "metadata": {},
   "outputs": [],
   "source": [
    "bounds2 = bounds/scale_factor\n",
    "# poses[..., 3] /= scale_factor"
   ]
  },
  {
   "cell_type": "code",
   "execution_count": 29,
   "id": "b62a88fa-eb0c-40d0-b913-58c041c9cdf9",
   "metadata": {},
   "outputs": [
    {
     "data": {
      "text/plain": [
       "(1.3333333333333333, 18.41230166385469)"
      ]
     },
     "execution_count": 29,
     "metadata": {},
     "output_type": "execute_result"
    }
   ],
   "source": [
    "bounds2.min(), bounds2.max()"
   ]
  },
  {
   "cell_type": "code",
   "execution_count": 30,
   "id": "2ae749c9-c4c8-42ef-8fa7-cc3d7454c7b5",
   "metadata": {},
   "outputs": [],
   "source": [
    "img_wh=(504, 378)\n",
    "\n",
    "directions = get_ray_directions(img_wh[1], img_wh[0], focal) # (H, W, 3)"
   ]
  },
  {
   "cell_type": "code",
   "execution_count": 31,
   "id": "1e1495fe-d388-419d-b99a-be4c34a756de",
   "metadata": {},
   "outputs": [
    {
     "data": {
      "text/plain": [
       "torch.Size([378, 504, 3])"
      ]
     },
     "execution_count": 31,
     "metadata": {},
     "output_type": "execute_result"
    }
   ],
   "source": [
    "directions.shape"
   ]
  },
  {
   "cell_type": "code",
   "execution_count": 32,
   "id": "95b0dcd3-d78c-4fb4-bcff-9da76bad7912",
   "metadata": {},
   "outputs": [],
   "source": [
    "i = 15"
   ]
  },
  {
   "cell_type": "code",
   "execution_count": 33,
   "id": "b4e686a3-e70b-44f5-9472-548def9c51e0",
   "metadata": {},
   "outputs": [],
   "source": [
    "image_path = image_paths[i]\n",
    "image_id = os.path.basename(image_path)\n",
    "depth_id = rgb_depth_mapping[image_id]\n",
    "depth_path = os.path.join((os.path.join(tum_path,\"depth\")),depth_id)"
   ]
  },
  {
   "cell_type": "code",
   "execution_count": 34,
   "id": "86f9dd44-d877-4a7b-8e7e-554fd0da91d1",
   "metadata": {},
   "outputs": [],
   "source": [
    "img_wh = (504, 378)\n",
    "\n",
    "img = Image.open(image_path).convert('RGB')\n",
    "#img = img.resize(img_wh, Image.LANCZOS)"
   ]
  },
  {
   "cell_type": "code",
   "execution_count": 35,
   "id": "535f556f-76e7-49e9-b45c-db94f56f0612",
   "metadata": {},
   "outputs": [
    {
     "data": {
      "text/plain": [
       "(640, 480)"
      ]
     },
     "execution_count": 35,
     "metadata": {},
     "output_type": "execute_result"
    }
   ],
   "source": [
    "img.size"
   ]
  },
  {
   "cell_type": "code",
   "execution_count": 36,
   "id": "d665e39b-500b-4a95-9b3c-ef2e53143691",
   "metadata": {},
   "outputs": [],
   "source": [
    "depth = cv2.imread(depth_path, -1)\n",
    "depth = cv2.resize(depth, (img_wh))\n",
    "depth = depth/5000"
   ]
  },
  {
   "cell_type": "code",
   "execution_count": 37,
   "id": "82db8b68-ec9c-4f4b-ae48-0897d02b46e5",
   "metadata": {},
   "outputs": [
    {
     "data": {
      "text/plain": [
       "<matplotlib.image.AxesImage at 0x7fa028510880>"
      ]
     },
     "execution_count": 37,
     "metadata": {},
     "output_type": "execute_result"
    },
    {
     "data": {
      "image/png": "[encoded data removed]",
      "text/plain": [
       "<Figure size 432x288 with 1 Axes>"
      ]
     },
     "metadata": {
      "needs_background": "light"
     },
     "output_type": "display_data"
    }
   ],
   "source": [
    "plt.imshow(depth)"
   ]
  },
  {
   "cell_type": "code",
   "execution_count": 48,
   "id": "bb116c36-f2c3-47ac-9e16-49428973c6dd",
   "metadata": {},
   "outputs": [],
   "source": [
    "mask = 1 - (depth==0).astype('uint8')"
   ]
  },
  {
   "cell_type": "code",
   "execution_count": 49,
   "id": "c3a58751-e225-4df6-b57b-6035834bdb9a",
   "metadata": {},
   "outputs": [
    {
     "data": {
      "text/plain": [
       "(378, 504)"
      ]
     },
     "execution_count": 49,
     "metadata": {},
     "output_type": "execute_result"
    }
   ],
   "source": [
    "mask.shape"
   ]
  },
  {
   "cell_type": "code",
   "execution_count": 52,
   "id": "845909b0-43bc-4093-b1b8-0f27e3ed27ce",
   "metadata": {},
   "outputs": [
    {
     "data": {
      "text/plain": [
       "0.7577947845804989"
      ]
     },
     "execution_count": 52,
     "metadata": {},
     "output_type": "execute_result"
    }
   ],
   "source": [
    "mask.sum()/(mask.shape[1]*mask.shape[0])"
   ]
  },
  {
   "cell_type": "code",
   "execution_count": 53,
   "id": "479a66ef-cd25-45fd-9e9d-0beb1025171e",
   "metadata": {},
   "outputs": [
    {
     "data": {
      "text/plain": [
       "array([[1, 1, 1, ..., 0, 0, 0],\n",
       "       [0, 0, 0, ..., 0, 0, 0],\n",
       "       [0, 0, 0, ..., 0, 0, 0],\n",
       "       ...,\n",
       "       [1, 1, 1, ..., 0, 0, 0],\n",
       "       [1, 1, 1, ..., 0, 0, 0],\n",
       "       [0, 0, 0, ..., 0, 0, 0]], dtype=uint8)"
      ]
     },
     "execution_count": 53,
     "metadata": {},
     "output_type": "execute_result"
    }
   ],
   "source": [
    "mask"
   ]
  },
  {
   "cell_type": "code",
   "execution_count": null,
   "id": "71b80b00-6519-4adb-af9a-b1141de7ca4b",
   "metadata": {},
   "outputs": [],
   "source": []
  },
  {
   "cell_type": "code",
   "execution_count": 60,
   "id": "51b8fb37-ec5b-4440-a157-02dca022ff20",
   "metadata": {},
   "outputs": [],
   "source": [
    "near_original = bounds.min()\n",
    "scale_factor = near_original*0.75\n",
    "near_depth_colmap = bounds.min() # 1% percentile\n",
    "far_depth_colmap = bounds.max() # 99% percentile"
   ]
  },
  {
   "cell_type": "code",
   "execution_count": 61,
   "id": "06136860-6904-408f-ad74-c56626913c58",
   "metadata": {},
   "outputs": [
    {
     "data": {
      "text/plain": [
       "(2.0559904843130434, 28.39163776138985)"
      ]
     },
     "execution_count": 61,
     "metadata": {},
     "output_type": "execute_result"
    }
   ],
   "source": [
    "near_depth_colmap, far_depth_colmap"
   ]
  },
  {
   "cell_type": "code",
   "execution_count": 62,
   "id": "e8349be2-73f3-48e2-bd46-6ac265f604be",
   "metadata": {},
   "outputs": [],
   "source": [
    "# At scene level, \n",
    "# depths = depths[depths>0]# \n",
    "# np.percentile(depths.flatten(), 99.9) -> near_depth_tum -> 3.8844\n",
    "# np.percentile(depths.flatten(),0.01 ) -> far_depth_tum -> 0.4482\n",
    "\n",
    "near_depth_tum = 0.4482\n",
    "far_depth_tum = 3.8844"
   ]
  },
  {
   "cell_type": "code",
   "execution_count": 63,
   "id": "c7df1696-7ec9-4f1b-8f96-b1e9d0e463f1",
   "metadata": {},
   "outputs": [],
   "source": [
    "scaled_depth = (far_depth_colmap - near_depth_colmap)*(depth - near_depth_tum)/(far_depth_tum - near_depth_tum) + near_depth_colmap"
   ]
  },
  {
   "cell_type": "code",
   "execution_count": 64,
   "id": "601b04fb-0aeb-4bdf-b6a8-a0c655c5f56b",
   "metadata": {},
   "outputs": [],
   "source": [
    "scaled_depth[scaled_depth < near_original] = near_original"
   ]
  },
  {
   "cell_type": "code",
   "execution_count": 65,
   "id": "55884360-6f09-43be-ba8f-3359d20930dc",
   "metadata": {},
   "outputs": [
    {
     "data": {
      "text/plain": [
       "2.0559904843130434"
      ]
     },
     "execution_count": 65,
     "metadata": {},
     "output_type": "execute_result"
    }
   ],
   "source": [
    "scaled_depth.min()"
   ]
  },
  {
   "cell_type": "code",
   "execution_count": 66,
   "id": "cbe3dc2d-ed2a-4783-969e-94e7da904c96",
   "metadata": {},
   "outputs": [],
   "source": [
    "scaled_depth = scaled_depth/scale_factor"
   ]
  },
  {
   "cell_type": "code",
   "execution_count": 67,
   "id": "36deb0e5-49b3-4ee6-98e2-64c7859b30cf",
   "metadata": {},
   "outputs": [
    {
     "data": {
      "text/plain": [
       "(1.3333333333333333, 16.46891169317957)"
      ]
     },
     "execution_count": 67,
     "metadata": {},
     "output_type": "execute_result"
    }
   ],
   "source": [
    "scaled_depth.min(), scaled_depth.max()"
   ]
  },
  {
   "cell_type": "code",
   "execution_count": 42,
   "id": "f93951f8-e72c-4b3b-b26e-7579e18b8c2e",
   "metadata": {},
   "outputs": [],
   "source": [
    "def convert_to_ndc(d):\n",
    "    return 1 - 1/d\n",
    "\n",
    "ndc_depth = convert_to_ndc(scaled_depth)"
   ]
  },
  {
   "cell_type": "code",
   "execution_count": 43,
   "id": "5dead8f7-5865-4865-964d-2b6791bf892e",
   "metadata": {},
   "outputs": [],
   "source": [
    "ndc_depth = torch.Tensor(ndc_depth)"
   ]
  },
  {
   "cell_type": "code",
   "execution_count": 46,
   "id": "10de5763-e9e4-4440-8249-985db467de18",
   "metadata": {},
   "outputs": [],
   "source": [
    "ndc_depth = ndc_depth.view(-1)"
   ]
  },
  {
   "cell_type": "code",
   "execution_count": null,
   "id": "77756c11-dcf0-4915-9515-aaf25f63c516",
   "metadata": {},
   "outputs": [],
   "source": []
  }
 ],
 "metadata": {
  "kernelspec": {
   "display_name": "Python 3",
   "language": "python",
   "name": "python3"
  },
  "language_info": {
   "codemirror_mode": {
    "name": "ipython",
    "version": 3
   },
   "file_extension": ".py",
   "mimetype": "text/x-python",
   "name": "python",
   "nbconvert_exporter": "python",
   "pygments_lexer": "ipython3",
   "version": "3.8.5"
  }
 },
 "nbformat": 4,
 "nbformat_minor": 5
}
