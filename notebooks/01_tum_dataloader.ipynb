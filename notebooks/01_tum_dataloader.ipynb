{
 "cells": [
  {
   "cell_type": "code",
   "execution_count": 1,
   "id": "143ae930-eeae-45b6-b211-f3b70fc273b4",
   "metadata": {},
   "outputs": [],
   "source": [
    "import sys\n",
    "sys.path.append(\"../\")"
   ]
  },
  {
   "cell_type": "code",
   "execution_count": 2,
   "id": "7a7c8473-d813-4433-806b-33c137316b2a",
   "metadata": {},
   "outputs": [],
   "source": [
    "%reload_ext autoreload\n",
    "%autoreload 2"
   ]
  },
  {
   "cell_type": "code",
   "execution_count": 3,
   "id": "b036c5df-c899-45a9-a822-cef63c1a10af",
   "metadata": {},
   "outputs": [],
   "source": [
    "import sys\n",
    "sys.path.append(\"../\")"
   ]
  },
  {
   "cell_type": "code",
   "execution_count": 4,
   "id": "fb553bf9-de76-4e36-b9b9-b62b33879d6f",
   "metadata": {},
   "outputs": [],
   "source": [
    "import numpy as np\n",
    "import os\n",
    "import cv2\n",
    "import matplotlib.pyplot as plt\n",
    "\n",
    "from gradslam.datasets.tum import TUM\n",
    "\n",
    "from datasets.llff import LLFFDataset\n",
    "from datasets.llff import *"
   ]
  },
  {
   "cell_type": "code",
   "execution_count": 5,
   "id": "bd9d1b86-a299-4e88-8e84-81a67b3efae7",
   "metadata": {},
   "outputs": [],
   "source": [
    "root_dir = \"/scratch/saksham/data/tum/\""
   ]
  },
  {
   "cell_type": "code",
   "execution_count": 6,
   "id": "81f69adc-3a00-4862-993f-9fdbfc587477",
   "metadata": {},
   "outputs": [],
   "source": [
    "from datasets.colmap_utils import \\\n",
    "    read_cameras_binary, read_images_binary, read_points3d_binary\n",
    "from datasets.tum import TUMRGBDDataset"
   ]
  },
  {
   "cell_type": "code",
   "execution_count": 7,
   "id": "55aa5740-2dbc-4f26-858a-70a27e391b17",
   "metadata": {},
   "outputs": [],
   "source": [
    "# tum_path = \"/scratch/saksham/data/tum/rgbd_dataset_freiburg1_desk/\"\n",
    "# rgb_depth_mapping = TUMRGBDDataset(tum_path).rgb_d_mapping"
   ]
  },
  {
   "cell_type": "code",
   "execution_count": 8,
   "id": "a0919d03-a309-4796-be71-f2662b7bc9f6",
   "metadata": {},
   "outputs": [],
   "source": [
    "# img_wh = (504, 378)\n",
    "\n",
    "# camdata = read_cameras_binary(os.path.join(root_dir, 'sparse/0/cameras.bin'))\n",
    "# H = camdata[1].height\n",
    "# W = camdata[1].width\n",
    "# focal = camdata[1].params[0] * img_wh[0]/W"
   ]
  },
  {
   "cell_type": "code",
   "execution_count": 9,
   "id": "ef28c356-2ffe-4c36-be6c-6bb7c4f36cc0",
   "metadata": {},
   "outputs": [],
   "source": [
    "dataset = TUM(root_dir, sequences = (\"../sequences.txt\"), seqlen = 101, start = 56)"
   ]
  },
  {
   "cell_type": "code",
   "execution_count": 10,
   "id": "e6a487e7-1cda-4d0c-8f72-6a1bc507dff1",
   "metadata": {},
   "outputs": [],
   "source": [
    "colors, depths, intrinsics, poses, transforms, names, timestamps = dataset[0]"
   ]
  },
  {
   "cell_type": "code",
   "execution_count": 11,
   "id": "421c1b8c-30d5-48f5-97ad-65830b0ad56e",
   "metadata": {},
   "outputs": [],
   "source": [
    "num_images = colors.shape[0]"
   ]
  },
  {
   "cell_type": "code",
   "execution_count": 30,
   "id": "75796405-2c3d-4983-88bc-19f167bf7b78",
   "metadata": {},
   "outputs": [],
   "source": [
    "# import imageio\n",
    "# imageio.mimsave(os.path.join(\"../test\", 'test.gif'), imgs, fps=30)"
   ]
  },
  {
   "cell_type": "code",
   "execution_count": 12,
   "id": "35d6e969-8f90-4f18-aeca-015d917b896f",
   "metadata": {},
   "outputs": [
    {
     "data": {
      "text/plain": [
       "'rgb 1305031454.659528 depth 1305031454.669573 pose 1305031454.6695\\nrgb 1305031454.691884 depth 1305031454.702030 pose 1305031454.6995\\nrgb 1305031454.727659 depth 1305031454.740764 pose 1305031454.7394\\nrgb 1305031454.759732 depth 1305031454.772865 pose 1305031454.7695\\nrgb 1305031454.791641 depth 1305031454.802574 pose 1305031454.7995\\nrgb 1305031454.827570 depth 1305031454.840500 pose 1305031454.8395\\nrgb 1305031454.859620 depth 1305031454.870269 pose 1305031454.8694\\nrgb 1305031454.891764 depth 1305031454.901065 pose 1305031454.8995\\nrgb 1305031454.927567 depth 1305031454.940240 pose 1305031454.9394\\nrgb 1305031454.959648 depth 1305031454.973081 pose 1305031454.9695\\nrgb 1305031454.991937 depth 1305031455.010759 pose 1305031455.0098\\nrgb 1305031455.027799 depth 1305031455.040446 pose 1305031455.0395\\nrgb 1305031455.059636 depth 1305031455.074282 pose 1305031455.0695\\nrgb 1305031455.091700 depth 1305031455.110340 pose 1305031455.1096\\nrgb 1305031455.127695 depth 1305031455.142700 pose 1305031455.1395\\nrgb 1305031455.159720 depth 1305031455.172771 pose 1305031455.1695\\nrgb 1305031455.191655 depth 1305031455.210307 pose 1305031455.2095\\nrgb 1305031455.227581 depth 1305031455.240960 pose 1305031455.2395\\nrgb 1305031455.259631 depth 1305031455.273001 pose 1305031455.2694\\nrgb 1305031455.291831 depth 1305031455.310303 pose 1305031455.3094\\nrgb 1305031455.327766 depth 1305031455.342381 pose 1305031455.3394\\nrgb 1305031455.359630 depth 1305031455.374120 pose 1305031455.3694\\nrgb 1305031455.391665 depth 1305031455.409213 pose 1305031455.4095\\nrgb 1305031455.427642 depth 1305031455.442380 pose 1305031455.4395\\nrgb 1305031455.459589 depth 1305031455.473168 pose 1305031455.4694\\nrgb 1305031455.491637 depth 1305031455.509397 pose 1305031455.5095\\nrgb 1305031455.527610 depth 1305031455.540835 pose 1305031455.5395\\nrgb 1305031455.559669 depth 1305031455.572996 pose 1305031455.5694\\nrgb 1305031455.591645 depth 1305031455.608802 pose 1305031455.6095\\nrgb 1305031455.627617 depth 1305031455.641333 pose 1305031455.6394\\nrgb 1305031455.659615 depth 1305031455.672887 pose 1305031455.6694\\nrgb 1305031455.691605 depth 1305031455.707680 pose 1305031455.7096\\nrgb 1305031455.727628 depth 1305031455.742005 pose 1305031455.7394\\nrgb 1305031455.759683 depth 1305031455.773667 pose 1305031455.7695\\nrgb 1305031455.791666 depth 1305031455.809109 pose 1305031455.8094\\nrgb 1305031455.827590 depth 1305031455.838364 pose 1305031455.8394\\nrgb 1305031455.859526 depth 1305031455.872220 pose 1305031455.8694\\nrgb 1305031455.891657 depth 1305031455.908418 pose 1305031455.9098\\nrgb 1305031455.927955 depth 1305031455.939606 pose 1305031455.9394\\nrgb 1305031455.959716 depth 1305031455.973594 pose 1305031455.9694\\nrgb 1305031455.991694 depth 1305031456.008998 pose 1305031456.0094\\nrgb 1305031456.027770 depth 1305031456.041930 pose 1305031456.0394\\nrgb 1305031456.059713 depth 1305031456.073846 pose 1305031456.0695\\nrgb 1305031456.091707 depth 1305031456.108963 pose 1305031456.1095\\nrgb 1305031456.127645 depth 1305031456.140836 pose 1305031456.1394\\nrgb 1305031456.159731 depth 1305031456.173198 pose 1305031456.1694\\nrgb 1305031456.191658 depth 1305031456.208934 pose 1305031456.2094\\nrgb 1305031456.227678 depth 1305031456.240996 pose 1305031456.2394\\nrgb 1305031456.291675 depth 1305031456.277928 pose 1305031456.2796\\nrgb 1305031456.327718 depth 1305031456.341659 pose 1305031456.3395\\nrgb 1305031456.391619 depth 1305031456.377115 pose 1305031456.3794\\nrgb 1305031456.427662 depth 1305031456.440717 pose 1305031456.4394\\nrgb 1305031456.491677 depth 1305031456.476027 pose 1305031456.4795\\nrgb 1305031456.527641 depth 1305031456.541832 pose 1305031456.5394\\nrgb 1305031456.591651 depth 1305031456.576087 pose 1305031456.5795\\nrgb 1305031456.627612 depth 1305031456.640699 pose 1305031456.6394\\nrgb 1305031456.691612 depth 1305031456.675835 pose 1305031456.6795\\nrgb 1305031456.727693 depth 1305031456.740863 pose 1305031456.7394\\nrgb 1305031456.791649 depth 1305031456.777218 pose 1305031456.7794\\nrgb 1305031456.827603 depth 1305031456.841050 pose 1305031456.8395\\nrgb 1305031456.891672 depth 1305031456.878006 pose 1305031456.8794\\nrgb 1305031456.927690 depth 1305031456.942298 pose 1305031456.9394\\nrgb 1305031456.959667 depth 1305031456.977139 pose 1305031456.9794\\nrgb 1305031456.991709 depth 1305031457.006193 pose 1305031457.0095\\nrgb 1305031457.027648 depth 1305031457.042512 pose 1305031457.0395\\nrgb 1305031457.091655 depth 1305031457.076011 pose 1305031457.0794\\nrgb 1305031457.127632 depth 1305031457.142120 pose 1305031457.1394\\nrgb 1305031457.191735 depth 1305031457.177463 pose 1305031457.1794\\nrgb 1305031457.227543 depth 1305031457.240792 pose 1305031457.2394\\nrgb 1305031457.291656 depth 1305031457.277247 pose 1305031457.2794\\nrgb 1305031457.327548 depth 1305031457.342954 pose 1305031457.3394\\nrgb 1305031457.391684 depth 1305031457.376037 pose 1305031457.3794\\nrgb 1305031457.427641 depth 1305031457.441357 pose 1305031457.4394\\nrgb 1305031457.491705 depth 1305031457.476577 pose 1305031457.4794\\nrgb 1305031457.527638 depth 1305031457.508603 pose 1305031457.5094\\nrgb 1305031457.559685 depth 1305031457.543946 pose 1305031457.5394\\nrgb 1305031457.591678 depth 1305031457.576581 pose 1305031457.5794\\nrgb 1305031457.627526 depth 1305031457.643534 pose 1305031457.6394\\nrgb 1305031457.659632 depth 1305031457.675414 pose 1305031457.6794\\nrgb 1305031457.691570 depth 1305031457.707739 pose 1305031457.7095\\nrgb 1305031457.727669 depth 1305031457.745071 pose 1305031457.7494\\nrgb 1305031457.759556 depth 1305031457.773518 pose 1305031457.7694\\nrgb 1305031457.791567 depth 1305031457.807824 pose 1305031457.8094\\nrgb 1305031457.827699 depth 1305031457.842853 pose 1305031457.8394\\nrgb 1305031457.859623 depth 1305031457.875920 pose 1305031457.8794\\nrgb 1305031457.891593 depth 1305031457.906126 pose 1305031457.9094\\nrgb 1305031457.927633 depth 1305031457.942604 pose 1305031457.9394\\nrgb 1305031457.991644 depth 1305031457.976744 pose 1305031457.9796\\nrgb 1305031458.027845 depth 1305031458.009019 pose 1305031458.0098\\nrgb 1305031458.059689 depth 1305031458.046303 pose 1305031458.0494\\nrgb 1305031458.091690 depth 1305031458.077315 pose 1305031458.0794\\nrgb 1305031458.127605 depth 1305031458.108896 pose 1305031458.1095\\nrgb 1305031458.159638 depth 1305031458.144808 pose 1305031458.1497\\nrgb 1305031458.191646 depth 1305031458.178039 pose 1305031458.1794\\nrgb 1305031458.227611 depth 1305031458.209384 pose 1305031458.2094\\nrgb 1305031458.259934 depth 1305031458.245729 pose 1305031458.2496\\nrgb 1305031458.291664 depth 1305031458.277447 pose 1305031458.2794\\nrgb 1305031458.327628 depth 1305031458.308343 pose 1305031458.3096\\nrgb 1305031458.359590 depth 1305031458.343898 pose 1305031458.3394\\nrgb 1305031458.391626 depth 1305031458.376213 pose 1305031458.3794\\nrgb 1305031458.427598 depth 1305031458.407856 pose 1305031458.4094'"
      ]
     },
     "execution_count": 12,
     "metadata": {},
     "output_type": "execute_result"
    }
   ],
   "source": [
    "timestamps"
   ]
  },
  {
   "cell_type": "code",
   "execution_count": 31,
   "id": "55301099-ba9d-4964-a850-fc68f0acd0f8",
   "metadata": {},
   "outputs": [],
   "source": [
    "focal = 525\n",
    "H = 480\n",
    "W = 640\n",
    "\n",
    "img_wh = (640, 480)"
   ]
  },
  {
   "cell_type": "code",
   "execution_count": 32,
   "id": "2d689249-1b6e-4008-805e-738826cda3b2",
   "metadata": {},
   "outputs": [],
   "source": [
    "np.save(\"tum.npy\", poses[:30])"
   ]
  },
  {
   "cell_type": "code",
   "execution_count": 17,
   "id": "4c2323d8-d61b-4615-a8df-cf55515dc197",
   "metadata": {},
   "outputs": [],
   "source": [
    "poses = np.concatenate([poses[..., 0:1], -poses[..., 1:3], poses[..., 3:4]], -1)"
   ]
  },
  {
   "cell_type": "code",
   "execution_count": 18,
   "id": "b694e4f4-1aa6-4f84-84e3-07654dc06d7e",
   "metadata": {},
   "outputs": [],
   "source": [
    "poses, _ = center_poses(poses)"
   ]
  },
  {
   "cell_type": "code",
   "execution_count": 20,
   "id": "a876e73d-a608-4918-84e1-6e7936db5bba",
   "metadata": {},
   "outputs": [
    {
     "data": {
      "text/plain": [
       "(30, 3, 4)"
      ]
     },
     "execution_count": 20,
     "metadata": {},
     "output_type": "execute_result"
    }
   ],
   "source": [
    "poses.shape"
   ]
  },
  {
   "cell_type": "code",
   "execution_count": 21,
   "id": "0cce8a26-bdfe-42c4-9ea1-dd0bb01914dc",
   "metadata": {},
   "outputs": [],
   "source": [
    "distances_from_center = np.linalg.norm(poses[..., 3], axis=1)"
   ]
  },
  {
   "cell_type": "code",
   "execution_count": 22,
   "id": "05c83ac2-3a4e-458c-b3d6-671fd6f95f58",
   "metadata": {},
   "outputs": [
    {
     "data": {
      "text/plain": [
       "array([0.18923801, 0.17882994, 0.17020191, 0.16133864, 0.14888205,\n",
       "       0.13866221, 0.12807605, 0.1133484 , 0.10174344, 0.08953152,\n",
       "       0.07296531, 0.06114183, 0.05089928, 0.04145309, 0.03819383,\n",
       "       0.03999648, 0.04716561, 0.05450364, 0.06341676, 0.07298805,\n",
       "       0.08622455, 0.09586377, 0.10975461, 0.12008307, 0.13056795,\n",
       "       0.14478923, 0.15536617, 0.16477215, 0.17729937, 0.18645279])"
      ]
     },
     "execution_count": 22,
     "metadata": {},
     "output_type": "execute_result"
    }
   ],
   "source": [
    "distances_from_center"
   ]
  },
  {
   "cell_type": "code",
   "execution_count": 23,
   "id": "0bdc0005-3f49-4621-9c7d-1348a951b387",
   "metadata": {},
   "outputs": [],
   "source": [
    "val_idx = np.argmin(distances_from_center) # choose val image as the closest to\n",
    "                                                   # center image"
   ]
  },
  {
   "cell_type": "code",
   "execution_count": 24,
   "id": "b3dcda20-caff-4500-a913-d784ab368444",
   "metadata": {},
   "outputs": [
    {
     "data": {
      "text/plain": [
       "0.7567999958992004"
      ]
     },
     "execution_count": 24,
     "metadata": {},
     "output_type": "execute_result"
    }
   ],
   "source": [
    "np.percentile(depths[depths>0],0.1)"
   ]
  },
  {
   "cell_type": "code",
   "execution_count": 25,
   "id": "1d679aba-8ddc-4651-9f07-d99b53173666",
   "metadata": {},
   "outputs": [],
   "source": [
    "near_original = depths[depths>0].min()"
   ]
  },
  {
   "cell_type": "code",
   "execution_count": 26,
   "id": "b4db0b3c-e93b-4502-8abd-1c0cd2bad0f3",
   "metadata": {},
   "outputs": [],
   "source": [
    "scale_factor = near_original*0.75"
   ]
  },
  {
   "cell_type": "code",
   "execution_count": 27,
   "id": "93efe0ed-4bed-40f8-aa91-046d74432fae",
   "metadata": {},
   "outputs": [
    {
     "data": {
      "text/plain": [
       "tensor(0.4004)"
      ]
     },
     "execution_count": 27,
     "metadata": {},
     "output_type": "execute_result"
    }
   ],
   "source": [
    "scale_factor"
   ]
  },
  {
   "cell_type": "code",
   "execution_count": 28,
   "id": "fa6d8438-ece9-475c-9fcf-e3ba498768b0",
   "metadata": {},
   "outputs": [],
   "source": [
    "depths = depths/scale_factor\n",
    "poses = poses/scale_factor"
   ]
  },
  {
   "cell_type": "code",
   "execution_count": 29,
   "id": "d93ef00b-345e-4e7f-a29a-d46425cbfa1e",
   "metadata": {},
   "outputs": [],
   "source": [
    "directions = get_ray_directions(img_wh[1], img_wh[0], focal) # (H, W, 3)"
   ]
  },
  {
   "cell_type": "code",
   "execution_count": 30,
   "id": "ad220e42-659d-44f3-b218-66200497d9ba",
   "metadata": {},
   "outputs": [],
   "source": [
    "img = colors[index]\n",
    "depth = depths[index]"
   ]
  },
  {
   "cell_type": "code",
   "execution_count": 50,
   "id": "8ab27f19-58a0-4fb1-8182-4d4817640bfd",
   "metadata": {},
   "outputs": [],
   "source": [
    "mask = 1 - (depth==0).long()"
   ]
  },
  {
   "cell_type": "code",
   "execution_count": 55,
   "id": "6501690d-3a6e-4f88-8d6c-3f523ae8a7d8",
   "metadata": {},
   "outputs": [],
   "source": [
    "c2w = torch.FloatTensor(poses[index])"
   ]
  },
  {
   "cell_type": "code",
   "execution_count": 72,
   "id": "c091a0a8-8b8f-4249-af38-708608b0628b",
   "metadata": {},
   "outputs": [],
   "source": [
    "img = Image.fromarray(img.numpy().astype('uint8')).convert('RGB')"
   ]
  },
  {
   "cell_type": "code",
   "execution_count": 73,
   "id": "216f1756-652f-4d0a-904a-3838b41421e7",
   "metadata": {},
   "outputs": [],
   "source": [
    "from datasets.TUM import TUMDataset"
   ]
  },
  {
   "cell_type": "code",
   "execution_count": 76,
   "id": "ee40cd1e-a550-4729-8481-e247ad81e09f",
   "metadata": {},
   "outputs": [],
   "source": [
    "data = TUMDataset(root_dir, sequences = \"../sequences.txt\")"
   ]
  },
  {
   "cell_type": "code",
   "execution_count": null,
   "id": "6d2981ab-1657-4322-8a58-175078a0c254",
   "metadata": {},
   "outputs": [],
   "source": []
  },
  {
   "cell_type": "code",
   "execution_count": null,
   "id": "50abb8cf-3ced-424e-a459-f0bfbed092dc",
   "metadata": {},
   "outputs": [],
   "source": []
  },
  {
   "cell_type": "code",
   "execution_count": null,
   "id": "77756c11-dcf0-4915-9515-aaf25f63c516",
   "metadata": {},
   "outputs": [],
   "source": []
  }
 ],
 "metadata": {
  "kernelspec": {
   "display_name": "Python 3",
   "language": "python",
   "name": "python3"
  },
  "language_info": {
   "codemirror_mode": {
    "name": "ipython",
    "version": 3
   },
   "file_extension": ".py",
   "mimetype": "text/x-python",
   "name": "python",
   "nbconvert_exporter": "python",
   "pygments_lexer": "ipython3",
   "version": "3.8.5"
  }
 },
 "nbformat": 4,
 "nbformat_minor": 5
}
