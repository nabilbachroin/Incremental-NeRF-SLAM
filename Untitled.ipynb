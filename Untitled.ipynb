{
 "cells": [
  {
   "cell_type": "code",
   "execution_count": 19,
   "id": "486eeb68-6c5a-43a9-8345-4378b4df39c4",
   "metadata": {},
   "outputs": [],
   "source": [
    "import torch"
   ]
  },
  {
   "cell_type": "code",
   "execution_count": 4,
   "id": "3d4011c5-7a7c-4189-9aa4-6605091a0d5c",
   "metadata": {},
   "outputs": [
    {
     "name": "stdout",
     "output_type": "stream",
     "text": [
      "dumps_1   dumps_12  dumps_15  dumps_18\tdumps_3  dumps_6  dumps_9\n",
      "dumps_10  dumps_13  dumps_16  dumps_19\tdumps_4  dumps_7\n",
      "dumps_11  dumps_14  dumps_17  dumps_2\tdumps_5  dumps_8\n"
     ]
    }
   ],
   "source": [
    "!ls /scratch/saksham/nerf_pl/inc_nerf_dumps/Exp1/"
   ]
  },
  {
   "cell_type": "code",
   "execution_count": 20,
   "id": "e2b775a1-fad6-44b8-bd5a-f528be4d1da4",
   "metadata": {},
   "outputs": [
    {
     "name": "stdout",
     "output_type": "stream",
     "text": [
      "tensor([[ 0.9913,  0.1267,  0.0348, -0.0088],\n",
      "        [ 0.1294, -0.9872, -0.0932,  0.0097],\n",
      "        [ 0.0225,  0.0969, -0.9950, -0.0052],\n",
      "        [ 0.0000,  0.0000,  0.0000,  1.0000]])\n"
     ]
    }
   ],
   "source": [
    "dumps_19 = torch.load('/scratch/saksham/nerf_pl/inc_nerf_dumps/Exp1/dumps_19')\n",
    "print(dumps_19['poses'][15])"
   ]
  },
  {
   "cell_type": "code",
   "execution_count": 1,
   "id": "c528cfe6-b3f6-4edd-8caf-108bbef04bbe",
   "metadata": {},
   "outputs": [],
   "source": [
    "import numpy as np"
   ]
  },
  {
   "cell_type": "code",
   "execution_count": 18,
   "id": "d4342037-61c5-4af8-ac5c-741e4242b084",
   "metadata": {},
   "outputs": [
    {
     "data": {
      "text/plain": [
       "[16, 18, 20, 22, 24]"
      ]
     },
     "execution_count": 18,
     "metadata": {},
     "output_type": "execute_result"
    }
   ],
   "source": [
    "list(np.linspace(1+15, 9+15, 5, dtype=int))"
   ]
  },
  {
   "cell_type": "code",
   "execution_count": 22,
   "id": "5a26eff9-bf91-4f82-9018-c8b30230348d",
   "metadata": {},
   "outputs": [
    {
     "ename": "RuntimeError",
     "evalue": "Tensor of matrices must have at least 2 dimensions. ",
     "output_type": "error",
     "traceback": [
      "\u001b[0;31m---------------------------------------------------------------------------\u001b[0m",
      "\u001b[0;31mRuntimeError\u001b[0m                              Traceback (most recent call last)",
      "\u001b[0;32m<ipython-input-22-2d45583c4ec0>\u001b[0m in \u001b[0;36m<module>\u001b[0;34m\u001b[0m\n\u001b[0;32m----> 1\u001b[0;31m \u001b[0mtorch\u001b[0m\u001b[0;34m.\u001b[0m\u001b[0minverse\u001b[0m\u001b[0;34m(\u001b[0m\u001b[0mtorch\u001b[0m\u001b[0;34m.\u001b[0m\u001b[0mrand\u001b[0m\u001b[0;34m(\u001b[0m\u001b[0;36m4\u001b[0m\u001b[0;34m)\u001b[0m\u001b[0;34m)\u001b[0m\u001b[0;34m\u001b[0m\u001b[0;34m\u001b[0m\u001b[0m\n\u001b[0m",
      "\u001b[0;31mRuntimeError\u001b[0m: Tensor of matrices must have at least 2 dimensions. "
     ]
    }
   ],
   "source": [
    "torch.inverse(torch.rand(4))"
   ]
  },
  {
   "cell_type": "code",
   "execution_count": null,
   "id": "910a5c4f-2fe1-456d-9bc4-f28855f604d2",
   "metadata": {},
   "outputs": [],
   "source": []
  }
 ],
 "metadata": {
  "kernelspec": {
   "display_name": "nerfing",
   "language": "python",
   "name": "nerfing"
  },
  "language_info": {
   "codemirror_mode": {
    "name": "ipython",
    "version": 3
   },
   "file_extension": ".py",
   "mimetype": "text/x-python",
   "name": "python",
   "nbconvert_exporter": "python",
   "pygments_lexer": "ipython3",
   "version": "3.6.13"
  }
 },
 "nbformat": 4,
 "nbformat_minor": 5
}
